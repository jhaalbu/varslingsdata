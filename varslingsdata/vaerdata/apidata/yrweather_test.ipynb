{
 "cells": [
  {
   "cell_type": "code",
   "execution_count": 10,
   "metadata": {},
   "outputs": [
    {
     "name": "stdout",
     "output_type": "stream",
     "text": [
      "-22.8\n"
     ]
    }
   ],
   "source": [
    "import yr_weather\n",
    "\n",
    "# Replace with your own User-Agent. See MET API Terms of Service for correct User-Agents.\n",
    "headers = {\n",
    "    \"User-Agent\": \"Stedspesifikk v/0.1 jan.helge.aalbu@vegvesen.no\"\n",
    "}\n",
    "\n",
    "lat = 61.98\n",
    "lon = 7.33\n",
    "my_client = yr_weather.Locationforecast(headers=headers)\n",
    "\n",
    "forecast = my_client.get_forecast(lat, lon)\n",
    "\n",
    "forecast_now = forecast.now()\n",
    "next_6_hrs = forecast_now.next_6_hours\n",
    "expected_temp = next_6_hrs.details.air_temperature\n",
    "print(max_temp)\n",
    "#forecast_12_hrs = forecast.next_12_hours()\n",
    "\n"
   ]
  },
  {
   "cell_type": "code",
   "execution_count": 13,
   "metadata": {},
   "outputs": [],
   "source": [
    "import metno"
   ]
  },
  {
   "cell_type": "code",
   "execution_count": 15,
   "metadata": {},
   "outputs": [],
   "source": [
    "params = {\n",
    "    \"lat\": 61.98,\n",
    "    \"lon\": 7.33\n",
    "}"
   ]
  },
  {
   "cell_type": "code",
   "execution_count": 17,
   "metadata": {},
   "outputs": [
    {
     "ename": "RuntimeError",
     "evalue": "This event loop is already running",
     "output_type": "error",
     "traceback": [
      "\u001b[1;31m---------------------------------------------------------------------------\u001b[0m",
      "\u001b[1;31mRuntimeError\u001b[0m                              Traceback (most recent call last)",
      "\u001b[1;32mc:\\Users\\janaal\\Documents\\Koding\\varslingsdata\\varslingsdata\\vaerdata\\apidata\\yrweather_test.ipynb Cell 4\u001b[0m line \u001b[0;36m1\n\u001b[1;32m----> <a href='vscode-notebook-cell:/c%3A/Users/janaal/Documents/Koding/varslingsdata/varslingsdata/vaerdata/apidata/yrweather_test.ipynb#W2sZmlsZQ%3D%3D?line=0'>1</a>\u001b[0m data \u001b[39m=\u001b[39m metno\u001b[39m.\u001b[39mMetWeatherData(params)\n",
      "File \u001b[1;32mc:\\Users\\janaal\\AppData\\Local\\anaconda3\\envs\\varslingsdata\\Lib\\site-packages\\metno\\__init__.py:103\u001b[0m, in \u001b[0;36mMetWeatherData.__init__\u001b[1;34m(self, urlparams, websession, api_url)\u001b[0m\n\u001b[0;32m    100\u001b[0m         \u001b[39mreturn\u001b[39;00m aiohttp\u001b[39m.\u001b[39mClientSession()\n\u001b[0;32m    102\u001b[0m     loop \u001b[39m=\u001b[39m asyncio\u001b[39m.\u001b[39mget_event_loop()\n\u001b[1;32m--> 103\u001b[0m     \u001b[39mself\u001b[39m\u001b[39m.\u001b[39m_websession \u001b[39m=\u001b[39m loop\u001b[39m.\u001b[39mrun_until_complete(_create_session())\n\u001b[0;32m    104\u001b[0m \u001b[39melse\u001b[39;00m:\n\u001b[0;32m    105\u001b[0m     \u001b[39mself\u001b[39m\u001b[39m.\u001b[39m_websession \u001b[39m=\u001b[39m websession\n",
      "File \u001b[1;32mc:\\Users\\janaal\\AppData\\Local\\anaconda3\\envs\\varslingsdata\\Lib\\asyncio\\base_events.py:629\u001b[0m, in \u001b[0;36mBaseEventLoop.run_until_complete\u001b[1;34m(self, future)\u001b[0m\n\u001b[0;32m    618\u001b[0m \u001b[39m\u001b[39m\u001b[39m\"\"\"Run until the Future is done.\u001b[39;00m\n\u001b[0;32m    619\u001b[0m \n\u001b[0;32m    620\u001b[0m \u001b[39mIf the argument is a coroutine, it is wrapped in a Task.\u001b[39;00m\n\u001b[1;32m   (...)\u001b[0m\n\u001b[0;32m    626\u001b[0m \u001b[39mReturn the Future's result, or raise its exception.\u001b[39;00m\n\u001b[0;32m    627\u001b[0m \u001b[39m\"\"\"\u001b[39;00m\n\u001b[0;32m    628\u001b[0m \u001b[39mself\u001b[39m\u001b[39m.\u001b[39m_check_closed()\n\u001b[1;32m--> 629\u001b[0m \u001b[39mself\u001b[39m\u001b[39m.\u001b[39m_check_running()\n\u001b[0;32m    631\u001b[0m new_task \u001b[39m=\u001b[39m \u001b[39mnot\u001b[39;00m futures\u001b[39m.\u001b[39misfuture(future)\n\u001b[0;32m    632\u001b[0m future \u001b[39m=\u001b[39m tasks\u001b[39m.\u001b[39mensure_future(future, loop\u001b[39m=\u001b[39m\u001b[39mself\u001b[39m)\n",
      "File \u001b[1;32mc:\\Users\\janaal\\AppData\\Local\\anaconda3\\envs\\varslingsdata\\Lib\\asyncio\\base_events.py:588\u001b[0m, in \u001b[0;36mBaseEventLoop._check_running\u001b[1;34m(self)\u001b[0m\n\u001b[0;32m    586\u001b[0m \u001b[39mdef\u001b[39;00m \u001b[39m_check_running\u001b[39m(\u001b[39mself\u001b[39m):\n\u001b[0;32m    587\u001b[0m     \u001b[39mif\u001b[39;00m \u001b[39mself\u001b[39m\u001b[39m.\u001b[39mis_running():\n\u001b[1;32m--> 588\u001b[0m         \u001b[39mraise\u001b[39;00m \u001b[39mRuntimeError\u001b[39;00m(\u001b[39m'\u001b[39m\u001b[39mThis event loop is already running\u001b[39m\u001b[39m'\u001b[39m)\n\u001b[0;32m    589\u001b[0m     \u001b[39mif\u001b[39;00m events\u001b[39m.\u001b[39m_get_running_loop() \u001b[39mis\u001b[39;00m \u001b[39mnot\u001b[39;00m \u001b[39mNone\u001b[39;00m:\n\u001b[0;32m    590\u001b[0m         \u001b[39mraise\u001b[39;00m \u001b[39mRuntimeError\u001b[39;00m(\n\u001b[0;32m    591\u001b[0m             \u001b[39m'\u001b[39m\u001b[39mCannot run the event loop while another loop is running\u001b[39m\u001b[39m'\u001b[39m)\n",
      "\u001b[1;31mRuntimeError\u001b[0m: This event loop is already running"
     ]
    }
   ],
   "source": [
    "data = metno.MetWeatherData(params)"
   ]
  },
  {
   "cell_type": "code",
   "execution_count": 26,
   "metadata": {},
   "outputs": [],
   "source": [
    "import pytz\n",
    "from aiohttp import ClientSession\n"
   ]
  },
  {
   "cell_type": "code",
   "execution_count": 18,
   "metadata": {},
   "outputs": [],
   "source": [
    "\n",
    "\n",
    "# Define your location's coordinates\n",
    "urlparams = {\n",
    "    'lat': '59.91',  # Latitude\n",
    "    'lon': '10.75',  # Longitude\n",
    "}\n",
    "\n",
    "# Create an asynchronous web session\n",
    "async with ClientSession() as session:\n",
    "    met_weather_data = metno.MetWeatherData(urlparams, websession=session)"
   ]
  },
  {
   "cell_type": "code",
   "execution_count": 20,
   "metadata": {},
   "outputs": [
    {
     "data": {
      "text/plain": [
       "<coroutine object MetWeatherData.fetching_data at 0x0000029D4F9EABD0>"
      ]
     },
     "execution_count": 20,
     "metadata": {},
     "output_type": "execute_result"
    }
   ],
   "source": [
    "met_weather_data.fetching_data()"
   ]
  },
  {
   "cell_type": "code",
   "execution_count": 21,
   "metadata": {},
   "outputs": [],
   "source": [
    "\n",
    "\n",
    "# Get current weather\n",
    "current_weather = met_weather_data.get_current_weather()\n",
    "\n",
    "# Get forecast (for example, hourly for the next 24 hours)\n",
    "forecast_data = met_weather_data.get_forecast(pytz.timezone('Europe/Oslo'), hourly=True, range_start=1, range_stop=24)"
   ]
  },
  {
   "cell_type": "code",
   "execution_count": 25,
   "metadata": {},
   "outputs": [
    {
     "name": "stdout",
     "output_type": "stream",
     "text": [
      "[]\n"
     ]
    }
   ],
   "source": [
    "print(forecast_data)"
   ]
  },
  {
   "cell_type": "code",
   "execution_count": 27,
   "metadata": {},
   "outputs": [
    {
     "ename": "RuntimeError",
     "evalue": "asyncio.run() cannot be called from a running event loop",
     "output_type": "error",
     "traceback": [
      "\u001b[1;31m---------------------------------------------------------------------------\u001b[0m",
      "\u001b[1;31mRuntimeError\u001b[0m                              Traceback (most recent call last)",
      "\u001b[1;32mc:\\Users\\janaal\\Documents\\Koding\\varslingsdata\\varslingsdata\\vaerdata\\apidata\\yrweather_test.ipynb Cell 10\u001b[0m line \u001b[0;36m2\n\u001b[0;32m     <a href='vscode-notebook-cell:/c%3A/Users/janaal/Documents/Koding/varslingsdata/varslingsdata/vaerdata/apidata/yrweather_test.ipynb#X12sZmlsZQ%3D%3D?line=15'>16</a>\u001b[0m         \u001b[39mprint\u001b[39m(current_weather)\n\u001b[0;32m     <a href='vscode-notebook-cell:/c%3A/Users/janaal/Documents/Koding/varslingsdata/varslingsdata/vaerdata/apidata/yrweather_test.ipynb#X12sZmlsZQ%3D%3D?line=16'>17</a>\u001b[0m         \u001b[39m# Add more processing as needed...\u001b[39;00m\n\u001b[0;32m     <a href='vscode-notebook-cell:/c%3A/Users/janaal/Documents/Koding/varslingsdata/varslingsdata/vaerdata/apidata/yrweather_test.ipynb#X12sZmlsZQ%3D%3D?line=17'>18</a>\u001b[0m \n\u001b[0;32m     <a href='vscode-notebook-cell:/c%3A/Users/janaal/Documents/Koding/varslingsdata/varslingsdata/vaerdata/apidata/yrweather_test.ipynb#X12sZmlsZQ%3D%3D?line=18'>19</a>\u001b[0m \u001b[39m# Run the main coroutine\u001b[39;00m\n\u001b[1;32m---> <a href='vscode-notebook-cell:/c%3A/Users/janaal/Documents/Koding/varslingsdata/varslingsdata/vaerdata/apidata/yrweather_test.ipynb#X12sZmlsZQ%3D%3D?line=19'>20</a>\u001b[0m asyncio\u001b[39m.\u001b[39mrun(main())\n",
      "File \u001b[1;32mc:\\Users\\janaal\\AppData\\Local\\anaconda3\\envs\\varslingsdata\\Lib\\asyncio\\runners.py:186\u001b[0m, in \u001b[0;36mrun\u001b[1;34m(main, debug)\u001b[0m\n\u001b[0;32m    161\u001b[0m \u001b[39m\u001b[39m\u001b[39m\"\"\"Execute the coroutine and return the result.\u001b[39;00m\n\u001b[0;32m    162\u001b[0m \n\u001b[0;32m    163\u001b[0m \u001b[39mThis function runs the passed coroutine, taking care of\u001b[39;00m\n\u001b[1;32m   (...)\u001b[0m\n\u001b[0;32m    182\u001b[0m \u001b[39m    asyncio.run(main())\u001b[39;00m\n\u001b[0;32m    183\u001b[0m \u001b[39m\"\"\"\u001b[39;00m\n\u001b[0;32m    184\u001b[0m \u001b[39mif\u001b[39;00m events\u001b[39m.\u001b[39m_get_running_loop() \u001b[39mis\u001b[39;00m \u001b[39mnot\u001b[39;00m \u001b[39mNone\u001b[39;00m:\n\u001b[0;32m    185\u001b[0m     \u001b[39m# fail fast with short traceback\u001b[39;00m\n\u001b[1;32m--> 186\u001b[0m     \u001b[39mraise\u001b[39;00m \u001b[39mRuntimeError\u001b[39;00m(\n\u001b[0;32m    187\u001b[0m         \u001b[39m\"\u001b[39m\u001b[39masyncio.run() cannot be called from a running event loop\u001b[39m\u001b[39m\"\u001b[39m)\n\u001b[0;32m    189\u001b[0m \u001b[39mwith\u001b[39;00m Runner(debug\u001b[39m=\u001b[39mdebug) \u001b[39mas\u001b[39;00m runner:\n\u001b[0;32m    190\u001b[0m     \u001b[39mreturn\u001b[39;00m runner\u001b[39m.\u001b[39mrun(main)\n",
      "\u001b[1;31mRuntimeError\u001b[0m: asyncio.run() cannot be called from a running event loop"
     ]
    }
   ],
   "source": [
    "import asyncio\n",
    "from aiohttp import ClientSession\n",
    "from metno import MetWeatherData  # Replace 'your_module' with the actual module name\n",
    "\n",
    "async def main():\n",
    "    # Define your location's coordinates\n",
    "    urlparams = {'lat': '61.98', 'lon': '10.75'}  # Example coordinates\n",
    "\n",
    "    # Create an asynchronous web session and fetch weather data\n",
    "    async with ClientSession() as session:\n",
    "        met_weather_data = MetWeatherData(urlparams, websession=session)\n",
    "        await met_weather_data.fetching_data()\n",
    "\n",
    "        # Get current weather or forecast\n",
    "        current_weather = met_weather_data.get_current_weather()\n",
    "        print(current_weather)\n",
    "        # Add more processing as needed...\n",
    "\n",
    "# Run the main coroutine\n",
    "asyncio.run(main())"
   ]
  },
  {
   "cell_type": "code",
   "execution_count": null,
   "metadata": {},
   "outputs": [],
   "source": []
  }
 ],
 "metadata": {
  "kernelspec": {
   "display_name": "varslingsdata",
   "language": "python",
   "name": "python3"
  },
  "language_info": {
   "codemirror_mode": {
    "name": "ipython",
    "version": 3
   },
   "file_extension": ".py",
   "mimetype": "text/x-python",
   "name": "python",
   "nbconvert_exporter": "python",
   "pygments_lexer": "ipython3",
   "version": "3.11.5"
  }
 },
 "nbformat": 4,
 "nbformat_minor": 2
}
